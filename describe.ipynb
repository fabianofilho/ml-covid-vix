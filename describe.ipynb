{
 "cells": [
  {
   "cell_type": "markdown",
   "metadata": {},
   "source": [
    "# --- Nesta análise os valores faltantes foram considerados classe 0 ---"
   ]
  },
  {
   "cell_type": "code",
   "execution_count": 59,
   "metadata": {},
   "outputs": [],
   "source": [
    "import pandas as pd"
   ]
  },
  {
   "cell_type": "code",
   "execution_count": 60,
   "metadata": {},
   "outputs": [],
   "source": [
    "df = pd.read_csv('describe.csv', index_col='Unnamed: 0')"
   ]
  },
  {
   "cell_type": "code",
   "execution_count": 61,
   "metadata": {},
   "outputs": [
    {
     "data": {
      "text/html": [
       "<div>\n",
       "<style scoped>\n",
       "    .dataframe tbody tr th:only-of-type {\n",
       "        vertical-align: middle;\n",
       "    }\n",
       "\n",
       "    .dataframe tbody tr th {\n",
       "        vertical-align: top;\n",
       "    }\n",
       "\n",
       "    .dataframe thead th {\n",
       "        text-align: right;\n",
       "    }\n",
       "</style>\n",
       "<table border=\"1\" class=\"dataframe\">\n",
       "  <thead>\n",
       "    <tr style=\"text-align: right;\">\n",
       "      <th></th>\n",
       "      <th>DIF_DIAS</th>\n",
       "      <th>NU_IDADE_N</th>\n",
       "      <th>CS_SEXO</th>\n",
       "      <th>CS_GESTANT</th>\n",
       "      <th>IS_PROFISSIONAL_SAUDE</th>\n",
       "      <th>SINT_FEBRE</th>\n",
       "      <th>SINT_DIF_RESP</th>\n",
       "      <th>SINT_NARIZ</th>\n",
       "      <th>SINT_TIRAG</th>\n",
       "      <th>SINT_CIAN</th>\n",
       "      <th>...</th>\n",
       "      <th>COMORB_NEOPL</th>\n",
       "      <th>COMORB_TABAG</th>\n",
       "      <th>COMORB_CIRURGIA_BARIAT</th>\n",
       "      <th>COMORB_OBESIDADE</th>\n",
       "      <th>COMORB_TUBERCULOSE</th>\n",
       "      <th>COMORB_NEOPLASIAS</th>\n",
       "      <th>COMORB_NEURO_CRONICA</th>\n",
       "      <th>CLASS_FINAL</th>\n",
       "      <th>SINT_DISPNEIA</th>\n",
       "      <th>SINT_MIALGIA</th>\n",
       "    </tr>\n",
       "  </thead>\n",
       "  <tbody>\n",
       "    <tr>\n",
       "      <th>0</th>\n",
       "      <td>5</td>\n",
       "      <td>35</td>\n",
       "      <td>Masculino</td>\n",
       "      <td>0</td>\n",
       "      <td>0.0</td>\n",
       "      <td>1.0</td>\n",
       "      <td>0.0</td>\n",
       "      <td>0.0</td>\n",
       "      <td>0.0</td>\n",
       "      <td>0.0</td>\n",
       "      <td>...</td>\n",
       "      <td>0.0</td>\n",
       "      <td>0.0</td>\n",
       "      <td>0.0</td>\n",
       "      <td>0.0</td>\n",
       "      <td>0.0</td>\n",
       "      <td>0.0</td>\n",
       "      <td>0.0</td>\n",
       "      <td>1.0</td>\n",
       "      <td>0</td>\n",
       "      <td>0</td>\n",
       "    </tr>\n",
       "    <tr>\n",
       "      <th>1</th>\n",
       "      <td>4</td>\n",
       "      <td>52</td>\n",
       "      <td>Feminino</td>\n",
       "      <td>0</td>\n",
       "      <td>0.0</td>\n",
       "      <td>1.0</td>\n",
       "      <td>1.0</td>\n",
       "      <td>0.0</td>\n",
       "      <td>0.0</td>\n",
       "      <td>0.0</td>\n",
       "      <td>...</td>\n",
       "      <td>0.0</td>\n",
       "      <td>0.0</td>\n",
       "      <td>0.0</td>\n",
       "      <td>0.0</td>\n",
       "      <td>0.0</td>\n",
       "      <td>0.0</td>\n",
       "      <td>0.0</td>\n",
       "      <td>1.0</td>\n",
       "      <td>0</td>\n",
       "      <td>0</td>\n",
       "    </tr>\n",
       "    <tr>\n",
       "      <th>2</th>\n",
       "      <td>4</td>\n",
       "      <td>39</td>\n",
       "      <td>Masculino</td>\n",
       "      <td>0</td>\n",
       "      <td>1.0</td>\n",
       "      <td>0.0</td>\n",
       "      <td>0.0</td>\n",
       "      <td>0.0</td>\n",
       "      <td>0.0</td>\n",
       "      <td>0.0</td>\n",
       "      <td>...</td>\n",
       "      <td>0.0</td>\n",
       "      <td>0.0</td>\n",
       "      <td>0.0</td>\n",
       "      <td>0.0</td>\n",
       "      <td>0.0</td>\n",
       "      <td>0.0</td>\n",
       "      <td>0.0</td>\n",
       "      <td>1.0</td>\n",
       "      <td>0</td>\n",
       "      <td>0</td>\n",
       "    </tr>\n",
       "    <tr>\n",
       "      <th>3</th>\n",
       "      <td>3</td>\n",
       "      <td>74</td>\n",
       "      <td>Masculino</td>\n",
       "      <td>0</td>\n",
       "      <td>0.0</td>\n",
       "      <td>1.0</td>\n",
       "      <td>1.0</td>\n",
       "      <td>0.0</td>\n",
       "      <td>0.0</td>\n",
       "      <td>0.0</td>\n",
       "      <td>...</td>\n",
       "      <td>0.0</td>\n",
       "      <td>0.0</td>\n",
       "      <td>0.0</td>\n",
       "      <td>0.0</td>\n",
       "      <td>0.0</td>\n",
       "      <td>0.0</td>\n",
       "      <td>0.0</td>\n",
       "      <td>1.0</td>\n",
       "      <td>0</td>\n",
       "      <td>0</td>\n",
       "    </tr>\n",
       "    <tr>\n",
       "      <th>4</th>\n",
       "      <td>0</td>\n",
       "      <td>83</td>\n",
       "      <td>Masculino</td>\n",
       "      <td>0</td>\n",
       "      <td>0.0</td>\n",
       "      <td>0.0</td>\n",
       "      <td>1.0</td>\n",
       "      <td>0.0</td>\n",
       "      <td>0.0</td>\n",
       "      <td>0.0</td>\n",
       "      <td>...</td>\n",
       "      <td>0.0</td>\n",
       "      <td>0.0</td>\n",
       "      <td>0.0</td>\n",
       "      <td>0.0</td>\n",
       "      <td>0.0</td>\n",
       "      <td>0.0</td>\n",
       "      <td>0.0</td>\n",
       "      <td>1.0</td>\n",
       "      <td>0</td>\n",
       "      <td>0</td>\n",
       "    </tr>\n",
       "    <tr>\n",
       "      <th>...</th>\n",
       "      <td>...</td>\n",
       "      <td>...</td>\n",
       "      <td>...</td>\n",
       "      <td>...</td>\n",
       "      <td>...</td>\n",
       "      <td>...</td>\n",
       "      <td>...</td>\n",
       "      <td>...</td>\n",
       "      <td>...</td>\n",
       "      <td>...</td>\n",
       "      <td>...</td>\n",
       "      <td>...</td>\n",
       "      <td>...</td>\n",
       "      <td>...</td>\n",
       "      <td>...</td>\n",
       "      <td>...</td>\n",
       "      <td>...</td>\n",
       "      <td>...</td>\n",
       "      <td>...</td>\n",
       "      <td>...</td>\n",
       "      <td>...</td>\n",
       "    </tr>\n",
       "    <tr>\n",
       "      <th>2624</th>\n",
       "      <td>1</td>\n",
       "      <td>41</td>\n",
       "      <td>Masculino</td>\n",
       "      <td>0</td>\n",
       "      <td>NaN</td>\n",
       "      <td>0.0</td>\n",
       "      <td>0.0</td>\n",
       "      <td>0.0</td>\n",
       "      <td>1.0</td>\n",
       "      <td>0.0</td>\n",
       "      <td>...</td>\n",
       "      <td>0.0</td>\n",
       "      <td>0.0</td>\n",
       "      <td>0.0</td>\n",
       "      <td>0.0</td>\n",
       "      <td>0.0</td>\n",
       "      <td>0.0</td>\n",
       "      <td>0.0</td>\n",
       "      <td>0.0</td>\n",
       "      <td>0</td>\n",
       "      <td>0</td>\n",
       "    </tr>\n",
       "    <tr>\n",
       "      <th>2625</th>\n",
       "      <td>22</td>\n",
       "      <td>50</td>\n",
       "      <td>Feminino</td>\n",
       "      <td>0</td>\n",
       "      <td>1.0</td>\n",
       "      <td>1.0</td>\n",
       "      <td>0.0</td>\n",
       "      <td>0.0</td>\n",
       "      <td>0.0</td>\n",
       "      <td>0.0</td>\n",
       "      <td>...</td>\n",
       "      <td>0.0</td>\n",
       "      <td>0.0</td>\n",
       "      <td>0.0</td>\n",
       "      <td>0.0</td>\n",
       "      <td>0.0</td>\n",
       "      <td>0.0</td>\n",
       "      <td>0.0</td>\n",
       "      <td>0.0</td>\n",
       "      <td>0</td>\n",
       "      <td>0</td>\n",
       "    </tr>\n",
       "    <tr>\n",
       "      <th>2626</th>\n",
       "      <td>1</td>\n",
       "      <td>56</td>\n",
       "      <td>Masculino</td>\n",
       "      <td>0</td>\n",
       "      <td>0.0</td>\n",
       "      <td>1.0</td>\n",
       "      <td>1.0</td>\n",
       "      <td>0.0</td>\n",
       "      <td>0.0</td>\n",
       "      <td>0.0</td>\n",
       "      <td>...</td>\n",
       "      <td>0.0</td>\n",
       "      <td>0.0</td>\n",
       "      <td>0.0</td>\n",
       "      <td>0.0</td>\n",
       "      <td>0.0</td>\n",
       "      <td>0.0</td>\n",
       "      <td>0.0</td>\n",
       "      <td>0.0</td>\n",
       "      <td>0</td>\n",
       "      <td>1</td>\n",
       "    </tr>\n",
       "    <tr>\n",
       "      <th>2627</th>\n",
       "      <td>14</td>\n",
       "      <td>37</td>\n",
       "      <td>Masculino</td>\n",
       "      <td>0</td>\n",
       "      <td>0.0</td>\n",
       "      <td>1.0</td>\n",
       "      <td>1.0</td>\n",
       "      <td>0.0</td>\n",
       "      <td>0.0</td>\n",
       "      <td>0.0</td>\n",
       "      <td>...</td>\n",
       "      <td>0.0</td>\n",
       "      <td>0.0</td>\n",
       "      <td>0.0</td>\n",
       "      <td>0.0</td>\n",
       "      <td>0.0</td>\n",
       "      <td>0.0</td>\n",
       "      <td>0.0</td>\n",
       "      <td>0.0</td>\n",
       "      <td>0</td>\n",
       "      <td>0</td>\n",
       "    </tr>\n",
       "    <tr>\n",
       "      <th>2628</th>\n",
       "      <td>1</td>\n",
       "      <td>77</td>\n",
       "      <td>Masculino</td>\n",
       "      <td>0</td>\n",
       "      <td>0.0</td>\n",
       "      <td>1.0</td>\n",
       "      <td>0.0</td>\n",
       "      <td>1.0</td>\n",
       "      <td>0.0</td>\n",
       "      <td>1.0</td>\n",
       "      <td>...</td>\n",
       "      <td>0.0</td>\n",
       "      <td>0.0</td>\n",
       "      <td>0.0</td>\n",
       "      <td>0.0</td>\n",
       "      <td>0.0</td>\n",
       "      <td>0.0</td>\n",
       "      <td>0.0</td>\n",
       "      <td>0.0</td>\n",
       "      <td>0</td>\n",
       "      <td>0</td>\n",
       "    </tr>\n",
       "  </tbody>\n",
       "</table>\n",
       "<p>2629 rows × 46 columns</p>\n",
       "</div>"
      ],
      "text/plain": [
       "      DIF_DIAS  NU_IDADE_N    CS_SEXO  CS_GESTANT  IS_PROFISSIONAL_SAUDE  \\\n",
       "0            5          35  Masculino           0                    0.0   \n",
       "1            4          52   Feminino           0                    0.0   \n",
       "2            4          39  Masculino           0                    1.0   \n",
       "3            3          74  Masculino           0                    0.0   \n",
       "4            0          83  Masculino           0                    0.0   \n",
       "...        ...         ...        ...         ...                    ...   \n",
       "2624         1          41  Masculino           0                    NaN   \n",
       "2625        22          50   Feminino           0                    1.0   \n",
       "2626         1          56  Masculino           0                    0.0   \n",
       "2627        14          37  Masculino           0                    0.0   \n",
       "2628         1          77  Masculino           0                    0.0   \n",
       "\n",
       "      SINT_FEBRE  SINT_DIF_RESP  SINT_NARIZ  SINT_TIRAG  SINT_CIAN  ...  \\\n",
       "0            1.0            0.0         0.0         0.0        0.0  ...   \n",
       "1            1.0            1.0         0.0         0.0        0.0  ...   \n",
       "2            0.0            0.0         0.0         0.0        0.0  ...   \n",
       "3            1.0            1.0         0.0         0.0        0.0  ...   \n",
       "4            0.0            1.0         0.0         0.0        0.0  ...   \n",
       "...          ...            ...         ...         ...        ...  ...   \n",
       "2624         0.0            0.0         0.0         1.0        0.0  ...   \n",
       "2625         1.0            0.0         0.0         0.0        0.0  ...   \n",
       "2626         1.0            1.0         0.0         0.0        0.0  ...   \n",
       "2627         1.0            1.0         0.0         0.0        0.0  ...   \n",
       "2628         1.0            0.0         1.0         0.0        1.0  ...   \n",
       "\n",
       "      COMORB_NEOPL  COMORB_TABAG  COMORB_CIRURGIA_BARIAT  COMORB_OBESIDADE  \\\n",
       "0              0.0           0.0                     0.0               0.0   \n",
       "1              0.0           0.0                     0.0               0.0   \n",
       "2              0.0           0.0                     0.0               0.0   \n",
       "3              0.0           0.0                     0.0               0.0   \n",
       "4              0.0           0.0                     0.0               0.0   \n",
       "...            ...           ...                     ...               ...   \n",
       "2624           0.0           0.0                     0.0               0.0   \n",
       "2625           0.0           0.0                     0.0               0.0   \n",
       "2626           0.0           0.0                     0.0               0.0   \n",
       "2627           0.0           0.0                     0.0               0.0   \n",
       "2628           0.0           0.0                     0.0               0.0   \n",
       "\n",
       "      COMORB_TUBERCULOSE  COMORB_NEOPLASIAS  COMORB_NEURO_CRONICA  \\\n",
       "0                    0.0                0.0                   0.0   \n",
       "1                    0.0                0.0                   0.0   \n",
       "2                    0.0                0.0                   0.0   \n",
       "3                    0.0                0.0                   0.0   \n",
       "4                    0.0                0.0                   0.0   \n",
       "...                  ...                ...                   ...   \n",
       "2624                 0.0                0.0                   0.0   \n",
       "2625                 0.0                0.0                   0.0   \n",
       "2626                 0.0                0.0                   0.0   \n",
       "2627                 0.0                0.0                   0.0   \n",
       "2628                 0.0                0.0                   0.0   \n",
       "\n",
       "      CLASS_FINAL  SINT_DISPNEIA  SINT_MIALGIA  \n",
       "0             1.0              0             0  \n",
       "1             1.0              0             0  \n",
       "2             1.0              0             0  \n",
       "3             1.0              0             0  \n",
       "4             1.0              0             0  \n",
       "...           ...            ...           ...  \n",
       "2624          0.0              0             0  \n",
       "2625          0.0              0             0  \n",
       "2626          0.0              0             1  \n",
       "2627          0.0              0             0  \n",
       "2628          0.0              0             0  \n",
       "\n",
       "[2629 rows x 46 columns]"
      ]
     },
     "execution_count": 61,
     "metadata": {},
     "output_type": "execute_result"
    }
   ],
   "source": [
    "df"
   ]
  },
  {
   "cell_type": "markdown",
   "metadata": {},
   "source": [
    "# Análise de prevalência"
   ]
  },
  {
   "cell_type": "code",
   "execution_count": 62,
   "metadata": {},
   "outputs": [],
   "source": [
    "def prevalencia(feature):\n",
    "    print(f'{feature}:')\n",
    "    pos = df.loc[df[feature] == 1, 'CLASS_FINAL']\n",
    "    porc_pos = pos.value_counts().iloc[1] / len(pos)\n",
    "    print(f'Prevalência na classe 1: {porc_pos}')\n",
    "\n",
    "    neg = df.loc[df[feature] != 1, 'CLASS_FINAL']\n",
    "    porc_neg = neg.value_counts().iloc[1] / len(neg)\n",
    "    print(f'Prevalência na classe 0: {porc_neg}')"
   ]
  },
  {
   "cell_type": "code",
   "execution_count": 63,
   "metadata": {},
   "outputs": [
    {
     "name": "stdout",
     "output_type": "stream",
     "text": [
      "IS_PROFISSIONAL_SAUDE:\n",
      "Prevalência na classe 1: 0.4326424870466321\n",
      "Prevalência na classe 0: 0.2552504038772213\n"
     ]
    }
   ],
   "source": [
    "prevalencia('IS_PROFISSIONAL_SAUDE')"
   ]
  },
  {
   "cell_type": "code",
   "execution_count": 64,
   "metadata": {},
   "outputs": [
    {
     "name": "stdout",
     "output_type": "stream",
     "text": [
      "CONTATO_SUSP:\n",
      "Prevalência na classe 1: 0.3530534351145038\n",
      "Prevalência na classe 0: 0.27703984819734345\n"
     ]
    }
   ],
   "source": [
    "prevalencia('CONTATO_SUSP')"
   ]
  },
  {
   "cell_type": "code",
   "execution_count": 65,
   "metadata": {},
   "outputs": [
    {
     "name": "stdout",
     "output_type": "stream",
     "text": [
      "VIAGEM_BRASIL:\n",
      "Prevalência na classe 1: 0.3492063492063492\n",
      "Prevalência na classe 0: 0.3063133281371785\n"
     ]
    }
   ],
   "source": [
    "prevalencia('VIAGEM_BRASIL')"
   ]
  },
  {
   "cell_type": "code",
   "execution_count": 66,
   "metadata": {},
   "outputs": [
    {
     "name": "stdout",
     "output_type": "stream",
     "text": [
      "VIAGEM_INTERNACIONAL:\n",
      "Prevalência na classe 1: 0.14130434782608695\n",
      "Prevalência na classe 0: 0.31336223886480097\n"
     ]
    }
   ],
   "source": [
    "prevalencia('VIAGEM_INTERNACIONAL')"
   ]
  },
  {
   "cell_type": "code",
   "execution_count": 67,
   "metadata": {},
   "outputs": [
    {
     "name": "stdout",
     "output_type": "stream",
     "text": [
      "CS_GESTANT:\n",
      "Prevalência na classe 1: 0.4375\n",
      "Prevalência na classe 0: 0.3065442020665901\n"
     ]
    }
   ],
   "source": [
    "prevalencia('CS_GESTANT')"
   ]
  },
  {
   "cell_type": "code",
   "execution_count": 84,
   "metadata": {},
   "outputs": [
    {
     "name": "stdout",
     "output_type": "stream",
     "text": [
      "CS_SEXO:\n",
      "Prevalência no sexo masculino: 0.32967032967032966\n",
      "Prevalência no sexo feminino: 0.291476903057905\n"
     ]
    }
   ],
   "source": [
    "print('CS_SEXO:')\n",
    "mas = df.loc[df['CS_SEXO'] == 'Masculino', 'CLASS_FINAL']\n",
    "porc_mas = mas.value_counts().iloc[1] / len(mas)\n",
    "print(f'Prevalência no sexo masculino: {porc_mas}')\n",
    "\n",
    "fem = df.loc[df['CS_SEXO'] == 'Feminino', 'CLASS_FINAL']\n",
    "porc_fem = fem.value_counts().iloc[1] / len(fem)\n",
    "print(f'Prevalência no sexo feminino: {porc_fem}')"
   ]
  },
  {
   "cell_type": "markdown",
   "metadata": {},
   "source": [
    "# Estatítsicas descritivas"
   ]
  },
  {
   "cell_type": "markdown",
   "metadata": {},
   "source": [
    "### Diferença de Dias"
   ]
  },
  {
   "cell_type": "code",
   "execution_count": 69,
   "metadata": {},
   "outputs": [
    {
     "data": {
      "text/plain": [
       "count    808.000000\n",
       "mean       5.444307\n",
       "std        6.134540\n",
       "min        0.000000\n",
       "25%        2.000000\n",
       "50%        4.000000\n",
       "75%        7.000000\n",
       "max       65.000000\n",
       "Name: DIF_DIAS, dtype: float64"
      ]
     },
     "execution_count": 69,
     "metadata": {},
     "output_type": "execute_result"
    }
   ],
   "source": [
    "# CLASS_FINAL = 1\n",
    "\n",
    "df.loc[df['CLASS_FINAL'] == 1, 'DIF_DIAS'].describe()"
   ]
  },
  {
   "cell_type": "code",
   "execution_count": 70,
   "metadata": {},
   "outputs": [
    {
     "data": {
      "text/plain": [
       "count    1821.000000\n",
       "mean        5.855574\n",
       "std         6.180304\n",
       "min         0.000000\n",
       "25%         2.000000\n",
       "50%         4.000000\n",
       "75%         8.000000\n",
       "max        84.000000\n",
       "Name: DIF_DIAS, dtype: float64"
      ]
     },
     "execution_count": 70,
     "metadata": {},
     "output_type": "execute_result"
    }
   ],
   "source": [
    "# CLASS_FINAL = 0\n",
    "\n",
    "df.loc[df['CLASS_FINAL'] != 1, 'DIF_DIAS'].describe()"
   ]
  },
  {
   "cell_type": "markdown",
   "metadata": {},
   "source": [
    "### Idade"
   ]
  },
  {
   "cell_type": "code",
   "execution_count": 71,
   "metadata": {},
   "outputs": [
    {
     "data": {
      "text/plain": [
       "count    808.000000\n",
       "mean      45.436881\n",
       "std       16.432611\n",
       "min       19.000000\n",
       "25%       33.000000\n",
       "50%       40.000000\n",
       "75%       55.000000\n",
       "max       99.000000\n",
       "Name: NU_IDADE_N, dtype: float64"
      ]
     },
     "execution_count": 71,
     "metadata": {},
     "output_type": "execute_result"
    }
   ],
   "source": [
    "# CLASS_FINAL = 1\n",
    "\n",
    "df.loc[df['CLASS_FINAL'] == 1, 'NU_IDADE_N'].describe()"
   ]
  },
  {
   "cell_type": "code",
   "execution_count": 72,
   "metadata": {},
   "outputs": [
    {
     "data": {
      "text/plain": [
       "count    1821.000000\n",
       "mean       44.716090\n",
       "std        15.766047\n",
       "min        19.000000\n",
       "25%        33.000000\n",
       "50%        41.000000\n",
       "75%        53.000000\n",
       "max       100.000000\n",
       "Name: NU_IDADE_N, dtype: float64"
      ]
     },
     "execution_count": 72,
     "metadata": {},
     "output_type": "execute_result"
    }
   ],
   "source": [
    "# CLASS_FINAL = 0\n",
    "\n",
    "df.loc[df['CLASS_FINAL'] != 1, 'NU_IDADE_N'].describe()"
   ]
  },
  {
   "cell_type": "code",
   "execution_count": null,
   "metadata": {},
   "outputs": [],
   "source": []
  }
 ],
 "metadata": {
  "kernelspec": {
   "display_name": "Python 3",
   "language": "python",
   "name": "python3"
  },
  "language_info": {
   "codemirror_mode": {
    "name": "ipython",
    "version": 3
   },
   "file_extension": ".py",
   "mimetype": "text/x-python",
   "name": "python",
   "nbconvert_exporter": "python",
   "pygments_lexer": "ipython3",
   "version": "3.7.6"
  }
 },
 "nbformat": 4,
 "nbformat_minor": 4
}
