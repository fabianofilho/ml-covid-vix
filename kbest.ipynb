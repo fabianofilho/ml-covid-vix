{
 "cells": [
  {
   "cell_type": "code",
   "execution_count": 967,
   "metadata": {},
   "outputs": [],
   "source": [
    "# Se der erro é so importar de novo\n",
    "\n",
    "import pandas as pd\n",
    "import numpy as np\n",
    "import matplotlib.pyplot as plt\n",
    "import pickle\n",
    "\n",
    "from sklearn.preprocessing import MinMaxScaler\n",
    "from sklearn.model_selection import train_test_split\n",
    "from sklearn.metrics import f1_score\n",
    "import xgboost as xgb\n",
    "import scikitplot as skplt\n",
    "from imblearn.combine import SMOTETomek\n",
    "\n",
    "from sklearn.metrics import roc_auc_score\n",
    "from sklearn.feature_selection import SelectKBest, chi2\n",
    "\n",
    "pd.set_option('display.max_columns', 999)\n",
    "pd.set_option('display.max_rows', 999)"
   ]
  },
  {
   "cell_type": "code",
   "execution_count": 968,
   "metadata": {},
   "outputs": [],
   "source": [
    "df = pd.read_csv('describe.csv', index_col = 'Unnamed: 0')"
   ]
  },
  {
   "cell_type": "markdown",
   "metadata": {},
   "source": [
    "## Dummies"
   ]
  },
  {
   "cell_type": "code",
   "execution_count": 969,
   "metadata": {},
   "outputs": [],
   "source": [
    "df = pd.get_dummies(df, drop_first=True)"
   ]
  },
  {
   "cell_type": "markdown",
   "metadata": {},
   "source": [
    "# knn imputer"
   ]
  },
  {
   "cell_type": "code",
   "execution_count": 970,
   "metadata": {},
   "outputs": [],
   "source": [
    "from sklearn.impute import KNNImputer\n",
    "num_feat = df.dtypes[df.dtypes.values != 'O'].index\n",
    "imputer = KNNImputer(n_neighbors=10)\n",
    "\n",
    "df[num_feat] = imputer.fit_transform(df[num_feat])"
   ]
  },
  {
   "cell_type": "markdown",
   "metadata": {},
   "source": [
    "## Train test split e balanceamento"
   ]
  },
  {
   "cell_type": "code",
   "execution_count": 971,
   "metadata": {},
   "outputs": [],
   "source": [
    "colunas = df.drop('CLASS_FINAL',1).columns"
   ]
  },
  {
   "cell_type": "code",
   "execution_count": 972,
   "metadata": {},
   "outputs": [],
   "source": [
    "X = df.drop('CLASS_FINAL',1)\n",
    "y = df['CLASS_FINAL']\n",
    "\n",
    "Xres, X_test, yres, y_test = train_test_split(X, y, test_size = 0.2, random_state = 0)\n",
    "\n",
    "sampling_strategy = 0.9\n",
    "ru = SMOTETomek(sampling_strategy=sampling_strategy)\n",
    "Xres, yres = ru.fit_sample(Xres, yres)"
   ]
  },
  {
   "cell_type": "markdown",
   "metadata": {},
   "source": [
    "## Scaler"
   ]
  },
  {
   "cell_type": "code",
   "execution_count": 973,
   "metadata": {},
   "outputs": [],
   "source": [
    "from sklearn.preprocessing import MinMaxScaler\n",
    "from sklearn.externals import joblib \n",
    "\n",
    "scaler = MinMaxScaler()\n",
    "scaler.fit(Xres)\n",
    "Xres = pd.DataFrame(scaler.transform(Xres), columns = colunas)\n",
    "X_test = pd.DataFrame(scaler.transform(X_test), columns = colunas)"
   ]
  },
  {
   "cell_type": "code",
   "execution_count": 974,
   "metadata": {},
   "outputs": [],
   "source": [
    "pickle.dump(scaler, open(\"scaler.dat\", \"wb\"))"
   ]
  },
  {
   "cell_type": "code",
   "execution_count": 975,
   "metadata": {},
   "outputs": [
    {
     "data": {
      "text/plain": [
       "(2695, 45)"
      ]
     },
     "execution_count": 975,
     "metadata": {},
     "output_type": "execute_result"
    }
   ],
   "source": [
    "Xres.shape"
   ]
  },
  {
   "cell_type": "code",
   "execution_count": 976,
   "metadata": {},
   "outputs": [
    {
     "data": {
      "text/plain": [
       "(2695,)"
      ]
     },
     "execution_count": 976,
     "metadata": {},
     "output_type": "execute_result"
    }
   ],
   "source": [
    "yres.shape"
   ]
  },
  {
   "cell_type": "code",
   "execution_count": 977,
   "metadata": {},
   "outputs": [],
   "source": [
    "def roc(y_test,prob):\n",
    "    prob = prob[:,1]\n",
    "    return roc_auc_score(y_test, prob)"
   ]
  },
  {
   "cell_type": "markdown",
   "metadata": {},
   "source": [
    "## Roc x K"
   ]
  },
  {
   "cell_type": "code",
   "execution_count": 978,
   "metadata": {},
   "outputs": [],
   "source": [
    "roc_list = []\n",
    "k = []\n",
    "for i in range(1,46):\n",
    "    kbest = SelectKBest(chi2, k=i)\n",
    "    kbest.fit(Xres, yres)\n",
    "    mask = kbest.get_support()\n",
    "    xnew = kbest.transform(Xres)\n",
    "    Xk = pd.DataFrame(xnew, columns=Xres.loc[:,mask].columns)\n",
    "    X_test_k = X_test[Xk.columns]\n",
    "    clf = xgb.XGBClassifier(n_estimators = 300)\n",
    "\n",
    "    clf.fit(Xk, yres)\n",
    "    clf_prob = clf.predict_proba(X_test_k)\n",
    "    roc_list.append(roc(y_test, clf_prob))\n",
    "    k.append(i)"
   ]
  },
  {
   "cell_type": "code",
   "execution_count": 979,
   "metadata": {},
   "outputs": [
    {
     "data": {
      "image/png": "[encoded data removed]",
      "text/plain": [
       "<Figure size 864x504 with 1 Axes>"
      ]
     },
     "metadata": {
      "needs_background": "light"
     },
     "output_type": "display_data"
    }
   ],
   "source": [
    "plt.figure(figsize=(12,7))\n",
    "plt.plot(k,roc_list)\n",
    "plt.xlabel('K')\n",
    "plt.ylabel('ROC_AUC_SCORE')\n",
    "plt.title('ROC_AUC_SCORE x K Best features')\n",
    "plt.grid()"
   ]
  },
  {
   "cell_type": "code",
   "execution_count": 980,
   "metadata": {},
   "outputs": [
    {
     "data": {
      "text/plain": [
       "Index(['IS_PROFISSIONAL_SAUDE', 'SINT_FEBRE', 'SINT_TOSSE', 'SINT_CONG_NAZ',\n",
       "       'SINT_CORIZA', 'SINT_GARGANTA', 'SINT_NAUZ', 'SINT_CEFALEIA',\n",
       "       'SINT_ADINAMIA', 'SINT_EXSUDATO', 'VIAGEM_INTERNACIONAL',\n",
       "       'COMORB_CARDIO', 'COMORB_DIABE', 'COMORB_IMUN',\n",
       "       'COMORB_CIRURGIA_BARIAT', 'COMORB_OBESIDADE', 'COMORB_NEOPLASIAS',\n",
       "       'COMORB_NEURO_CRONICA', 'SINT_DISPNEIA', 'SINT_MIALGIA',\n",
       "       'CS_SEXO_Masculino'],\n",
       "      dtype='object')"
      ]
     },
     "execution_count": 980,
     "metadata": {},
     "output_type": "execute_result"
    }
   ],
   "source": [
    "kbest = SelectKBest(chi2, k=21)\n",
    "kbest.fit(Xres, yres)\n",
    "mask = kbest.get_support()\n",
    "xnew = kbest.transform(Xres)\n",
    "Xk = pd.DataFrame(xnew, columns=Xres.loc[:,mask].columns)\n",
    "\n",
    "Xk.columns"
   ]
  },
  {
   "cell_type": "code",
   "execution_count": null,
   "metadata": {},
   "outputs": [],
   "source": []
  }
 ],
 "metadata": {
  "kernelspec": {
   "display_name": "Python 3",
   "language": "python",
   "name": "python3"
  },
  "language_info": {
   "codemirror_mode": {
    "name": "ipython",
    "version": 3
   },
   "file_extension": ".py",
   "mimetype": "text/x-python",
   "name": "python",
   "nbconvert_exporter": "python",
   "pygments_lexer": "ipython3",
   "version": "3.7.6"
  }
 },
 "nbformat": 4,
 "nbformat_minor": 4
}
