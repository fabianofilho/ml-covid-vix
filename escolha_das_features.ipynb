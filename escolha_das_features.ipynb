{
 "cells": [
  {
   "cell_type": "code",
   "execution_count": 2,
   "metadata": {},
   "outputs": [],
   "source": [
    "import pandas as pd\n",
    "import matplotlib.pyplot as plt\n",
    "import seaborn as sns\n",
    "\n",
    "pd.set_option('display.max_columns', 999)"
   ]
  },
  {
   "cell_type": "code",
   "execution_count": 3,
   "metadata": {},
   "outputs": [],
   "source": [
    "df = pd.read_excel('dados.xlsx')"
   ]
  },
  {
   "cell_type": "code",
   "execution_count": 5,
   "metadata": {},
   "outputs": [
    {
     "data": {
      "text/html": [
       "<div>\n",
       "<style scoped>\n",
       "    .dataframe tbody tr th:only-of-type {\n",
       "        vertical-align: middle;\n",
       "    }\n",
       "\n",
       "    .dataframe tbody tr th {\n",
       "        vertical-align: top;\n",
       "    }\n",
       "\n",
       "    .dataframe thead th {\n",
       "        text-align: right;\n",
       "    }\n",
       "</style>\n",
       "<table border=\"1\" class=\"dataframe\">\n",
       "  <thead>\n",
       "    <tr style=\"text-align: right;\">\n",
       "      <th></th>\n",
       "      <th>NU_NOTIFIC</th>\n",
       "      <th>TP_NOT</th>\n",
       "      <th>ID_AGRAVO</th>\n",
       "      <th>AGRAVO</th>\n",
       "      <th>ID_UNIDADE</th>\n",
       "      <th>NM_UNID</th>\n",
       "      <th>DT_NOTIFIC</th>\n",
       "      <th>SEM_NOT</th>\n",
       "      <th>NU_ANO</th>\n",
       "      <th>SG_UF_NOT</th>\n",
       "      <th>ID_MUNICIP</th>\n",
       "      <th>NM_MUNICIP</th>\n",
       "      <th>DT_SIN_PRI</th>\n",
       "      <th>SEM_PRI</th>\n",
       "      <th>CNS</th>\n",
       "      <th>DT_NASC</th>\n",
       "      <th>NU_IDADE_N</th>\n",
       "      <th>CS_SEXO</th>\n",
       "      <th>CS_GESTANT</th>\n",
       "      <th>CS_RACA</th>\n",
       "      <th>CS_ESCOL_N</th>\n",
       "      <th>SG_UF</th>\n",
       "      <th>ID_MN_RESI</th>\n",
       "      <th>NM_MN_RESI</th>\n",
       "      <th>NM_BAIRRO</th>\n",
       "      <th>NM_NAO_ENCONTRADO</th>\n",
       "      <th>TELEFONE</th>\n",
       "      <th>LAT_BAIRRO</th>\n",
       "      <th>LONG_BAIRRO</th>\n",
       "      <th>CS_ZONA</th>\n",
       "      <th>ID_PAIS</th>\n",
       "      <th>IS_PROFISSIONAL_SAUDE</th>\n",
       "      <th>CBO</th>\n",
       "      <th>NM_CBO</th>\n",
       "      <th>SINT_FEBRE</th>\n",
       "      <th>SINT_DIF_RESP</th>\n",
       "      <th>SINT_NARIZ</th>\n",
       "      <th>SINT_TIRAG</th>\n",
       "      <th>SINT_CIAN</th>\n",
       "      <th>SINT_SAT</th>\n",
       "      <th>SINT_COMA</th>\n",
       "      <th>SINT_TOSSE</th>\n",
       "      <th>SINT_ESCA</th>\n",
       "      <th>SINT_CONG_NAZ</th>\n",
       "      <th>SINT_CORIZA</th>\n",
       "      <th>SINT_GARGANTA</th>\n",
       "      <th>SINT_DIF_ENGO</th>\n",
       "      <th>SINT_DIARREIA</th>\n",
       "      <th>SINT_NAUZ</th>\n",
       "      <th>SINT_CEFALEIA</th>\n",
       "      <th>SINT_IRRITABI</th>\n",
       "      <th>SINT_ADINAMIA</th>\n",
       "      <th>SINT_EXSUDATO</th>\n",
       "      <th>SINT_CONJUT</th>\n",
       "      <th>SINT_CONVULSAO</th>\n",
       "      <th>NM_SINTOMAS_OUTROS</th>\n",
       "      <th>FICOU_INTERNADO</th>\n",
       "      <th>DT_INTERNACAO</th>\n",
       "      <th>DT_ALTA_INTERNACAO</th>\n",
       "      <th>DT_INTERNACAO_UTI</th>\n",
       "      <th>DT_ALTA_UTI</th>\n",
       "      <th>UF_INTERNACAO</th>\n",
       "      <th>MUNICIPIO_INTERNACAO</th>\n",
       "      <th>ID_UNIDADE_INT</th>\n",
       "      <th>INTERNADO_UTI</th>\n",
       "      <th>CONTATO_SUSP</th>\n",
       "      <th>RESIDE_SUSP</th>\n",
       "      <th>VIAGEM_BRASIL</th>\n",
       "      <th>VIAGEM_INTERNACIONAL</th>\n",
       "      <th>COMORB_PULM</th>\n",
       "      <th>COMORB_CARDIO</th>\n",
       "      <th>COMORB_RENAL</th>\n",
       "      <th>COMORB_HEPAT</th>\n",
       "      <th>COMORB_DIABE</th>\n",
       "      <th>COMORB_IMUN</th>\n",
       "      <th>COMORB_HIV</th>\n",
       "      <th>COMORB_NEOPL</th>\n",
       "      <th>COMORB_TABAG</th>\n",
       "      <th>COMORB_CIRURGIA_BARIAT</th>\n",
       "      <th>COMORB_OBESIDADE</th>\n",
       "      <th>COMORB_TUBERCULOSE</th>\n",
       "      <th>COMORB_NEOPLASIAS</th>\n",
       "      <th>COMORB_NEURO_CRONICA</th>\n",
       "      <th>AMOSTRA_RT_PCR</th>\n",
       "      <th>DT_COLETA_T_RAPIDO</th>\n",
       "      <th>RESULTADO_T_RAPIDO</th>\n",
       "      <th>DT_COLETA_RT_PCR</th>\n",
       "      <th>RESULTADO_RT_PCR</th>\n",
       "      <th>AMOSTRA_T_RAPIDO</th>\n",
       "      <th>CLASS_FINAL</th>\n",
       "      <th>CRIT_CONF</th>\n",
       "      <th>EVOLUCAO</th>\n",
       "      <th>DT_ENCERRAMENTO</th>\n",
       "      <th>MUNICIPIOS_VISITADOS</th>\n",
       "      <th>PAISES_VISITADOS</th>\n",
       "    </tr>\n",
       "  </thead>\n",
       "  <tbody>\n",
       "    <tr>\n",
       "      <th>0</th>\n",
       "      <td>59702</td>\n",
       "      <td>2</td>\n",
       "      <td>U07.1</td>\n",
       "      <td>Infecção pelo novo Coronavírus (COVID-19)</td>\n",
       "      <td>3450198</td>\n",
       "      <td>VITORIA APART HOSPITAL S A</td>\n",
       "      <td>2020-04-27</td>\n",
       "      <td>18</td>\n",
       "      <td>2020</td>\n",
       "      <td>ES</td>\n",
       "      <td>320500</td>\n",
       "      <td>SERRA</td>\n",
       "      <td>2020-04-20</td>\n",
       "      <td>17</td>\n",
       "      <td>19606989747</td>\n",
       "      <td>2003-12-26</td>\n",
       "      <td>16</td>\n",
       "      <td>Feminino</td>\n",
       "      <td>Não</td>\n",
       "      <td>Ignorado</td>\n",
       "      <td>Ignorado</td>\n",
       "      <td>ES</td>\n",
       "      <td>320530</td>\n",
       "      <td>VITORIA</td>\n",
       "      <td>JARDIM CAMBURI</td>\n",
       "      <td>NaN</td>\n",
       "      <td>2730393845</td>\n",
       "      <td>-20.2566</td>\n",
       "      <td>-40.2677</td>\n",
       "      <td>Urbana</td>\n",
       "      <td>BRASIL</td>\n",
       "      <td>2.0</td>\n",
       "      <td>NaN</td>\n",
       "      <td>NaN</td>\n",
       "      <td>1.0</td>\n",
       "      <td>1</td>\n",
       "      <td>2</td>\n",
       "      <td>2</td>\n",
       "      <td>2</td>\n",
       "      <td>2</td>\n",
       "      <td>2</td>\n",
       "      <td>2</td>\n",
       "      <td>2</td>\n",
       "      <td>2.0</td>\n",
       "      <td>2</td>\n",
       "      <td>2</td>\n",
       "      <td>2</td>\n",
       "      <td>2</td>\n",
       "      <td>2</td>\n",
       "      <td>2</td>\n",
       "      <td>2</td>\n",
       "      <td>2</td>\n",
       "      <td>2</td>\n",
       "      <td>2</td>\n",
       "      <td>2</td>\n",
       "      <td>ODINOFAGIA</td>\n",
       "      <td>2.0</td>\n",
       "      <td>NaT</td>\n",
       "      <td>NaT</td>\n",
       "      <td>NaT</td>\n",
       "      <td>NaN</td>\n",
       "      <td>NaN</td>\n",
       "      <td>NaN</td>\n",
       "      <td>NaN</td>\n",
       "      <td>2.0</td>\n",
       "      <td>2.0</td>\n",
       "      <td>NaN</td>\n",
       "      <td>2.0</td>\n",
       "      <td>2.0</td>\n",
       "      <td>1</td>\n",
       "      <td>2</td>\n",
       "      <td>2</td>\n",
       "      <td>2</td>\n",
       "      <td>2</td>\n",
       "      <td>2</td>\n",
       "      <td>2</td>\n",
       "      <td>2</td>\n",
       "      <td>2</td>\n",
       "      <td>2.0</td>\n",
       "      <td>2.0</td>\n",
       "      <td>2.0</td>\n",
       "      <td>2.0</td>\n",
       "      <td>2.0</td>\n",
       "      <td>2</td>\n",
       "      <td>NaT</td>\n",
       "      <td>NaN</td>\n",
       "      <td>NaT</td>\n",
       "      <td>NaN</td>\n",
       "      <td>2</td>\n",
       "      <td>NaN</td>\n",
       "      <td>NaN</td>\n",
       "      <td>NaN</td>\n",
       "      <td>NaT</td>\n",
       "      <td>NaN</td>\n",
       "      <td>NaN</td>\n",
       "    </tr>\n",
       "    <tr>\n",
       "      <th>1</th>\n",
       "      <td>59698</td>\n",
       "      <td>2</td>\n",
       "      <td>U07.1</td>\n",
       "      <td>Infecção pelo novo Coronavírus (COVID-19)</td>\n",
       "      <td>7301413</td>\n",
       "      <td>CREMASCO MEDICINA DIAGNOSTICA LTDA FILIAL 01</td>\n",
       "      <td>2020-04-27</td>\n",
       "      <td>18</td>\n",
       "      <td>2020</td>\n",
       "      <td>ES</td>\n",
       "      <td>320130</td>\n",
       "      <td>CARIACICA</td>\n",
       "      <td>2020-04-23</td>\n",
       "      <td>17</td>\n",
       "      <td>703201699555394</td>\n",
       "      <td>1988-01-01</td>\n",
       "      <td>32</td>\n",
       "      <td>Masculino</td>\n",
       "      <td>Não se aplica</td>\n",
       "      <td>Ignorado</td>\n",
       "      <td>Ignorado</td>\n",
       "      <td>ES</td>\n",
       "      <td>320530</td>\n",
       "      <td>VITORIA</td>\n",
       "      <td>JARDIM DA PENHA</td>\n",
       "      <td>NaN</td>\n",
       "      <td>27999713259</td>\n",
       "      <td>-20.2845</td>\n",
       "      <td>-40.2948</td>\n",
       "      <td>Urbana</td>\n",
       "      <td>BRASIL</td>\n",
       "      <td>NaN</td>\n",
       "      <td>NaN</td>\n",
       "      <td>NaN</td>\n",
       "      <td>2.0</td>\n",
       "      <td>2</td>\n",
       "      <td>2</td>\n",
       "      <td>2</td>\n",
       "      <td>2</td>\n",
       "      <td>2</td>\n",
       "      <td>2</td>\n",
       "      <td>2</td>\n",
       "      <td>2</td>\n",
       "      <td>2.0</td>\n",
       "      <td>2</td>\n",
       "      <td>2</td>\n",
       "      <td>2</td>\n",
       "      <td>2</td>\n",
       "      <td>2</td>\n",
       "      <td>2</td>\n",
       "      <td>2</td>\n",
       "      <td>2</td>\n",
       "      <td>2</td>\n",
       "      <td>2</td>\n",
       "      <td>2</td>\n",
       "      <td>NaN</td>\n",
       "      <td>NaN</td>\n",
       "      <td>NaT</td>\n",
       "      <td>NaT</td>\n",
       "      <td>NaT</td>\n",
       "      <td>NaN</td>\n",
       "      <td>NaN</td>\n",
       "      <td>NaN</td>\n",
       "      <td>NaN</td>\n",
       "      <td>NaN</td>\n",
       "      <td>NaN</td>\n",
       "      <td>NaN</td>\n",
       "      <td>NaN</td>\n",
       "      <td>NaN</td>\n",
       "      <td>2</td>\n",
       "      <td>2</td>\n",
       "      <td>2</td>\n",
       "      <td>2</td>\n",
       "      <td>2</td>\n",
       "      <td>2</td>\n",
       "      <td>2</td>\n",
       "      <td>2</td>\n",
       "      <td>2</td>\n",
       "      <td>2.0</td>\n",
       "      <td>2.0</td>\n",
       "      <td>2.0</td>\n",
       "      <td>2.0</td>\n",
       "      <td>2.0</td>\n",
       "      <td>1</td>\n",
       "      <td>NaT</td>\n",
       "      <td>NaN</td>\n",
       "      <td>2020-04-24</td>\n",
       "      <td>2.0</td>\n",
       "      <td>2</td>\n",
       "      <td>4.0</td>\n",
       "      <td>1.0</td>\n",
       "      <td>9.0</td>\n",
       "      <td>2020-04-27</td>\n",
       "      <td>NaN</td>\n",
       "      <td>NaN</td>\n",
       "    </tr>\n",
       "    <tr>\n",
       "      <th>2</th>\n",
       "      <td>59697</td>\n",
       "      <td>2</td>\n",
       "      <td>U07.1</td>\n",
       "      <td>Infecção pelo novo Coronavírus (COVID-19)</td>\n",
       "      <td>3536831</td>\n",
       "      <td>LABORATORIO BIOCLINICO</td>\n",
       "      <td>2020-04-27</td>\n",
       "      <td>18</td>\n",
       "      <td>2020</td>\n",
       "      <td>ES</td>\n",
       "      <td>320530</td>\n",
       "      <td>VITORIA</td>\n",
       "      <td>2020-04-16</td>\n",
       "      <td>16</td>\n",
       "      <td>705005488962153</td>\n",
       "      <td>1983-11-23</td>\n",
       "      <td>36</td>\n",
       "      <td>Feminino</td>\n",
       "      <td>Não</td>\n",
       "      <td>Ignorado</td>\n",
       "      <td>Ignorado</td>\n",
       "      <td>ES</td>\n",
       "      <td>320530</td>\n",
       "      <td>VITORIA</td>\n",
       "      <td>JARDIM CAMBURI</td>\n",
       "      <td>NaN</td>\n",
       "      <td>27997354687</td>\n",
       "      <td>-20.2566</td>\n",
       "      <td>-40.2677</td>\n",
       "      <td>Urbana</td>\n",
       "      <td>BRASIL</td>\n",
       "      <td>9.0</td>\n",
       "      <td>NaN</td>\n",
       "      <td>NaN</td>\n",
       "      <td>2.0</td>\n",
       "      <td>2</td>\n",
       "      <td>2</td>\n",
       "      <td>2</td>\n",
       "      <td>2</td>\n",
       "      <td>2</td>\n",
       "      <td>2</td>\n",
       "      <td>2</td>\n",
       "      <td>2</td>\n",
       "      <td>2.0</td>\n",
       "      <td>2</td>\n",
       "      <td>2</td>\n",
       "      <td>2</td>\n",
       "      <td>2</td>\n",
       "      <td>2</td>\n",
       "      <td>2</td>\n",
       "      <td>2</td>\n",
       "      <td>2</td>\n",
       "      <td>2</td>\n",
       "      <td>2</td>\n",
       "      <td>2</td>\n",
       "      <td>NaN</td>\n",
       "      <td>2.0</td>\n",
       "      <td>NaT</td>\n",
       "      <td>NaT</td>\n",
       "      <td>NaT</td>\n",
       "      <td>NaN</td>\n",
       "      <td>NaN</td>\n",
       "      <td>NaN</td>\n",
       "      <td>NaN</td>\n",
       "      <td>2.0</td>\n",
       "      <td>9.0</td>\n",
       "      <td>NaN</td>\n",
       "      <td>9.0</td>\n",
       "      <td>9.0</td>\n",
       "      <td>2</td>\n",
       "      <td>2</td>\n",
       "      <td>2</td>\n",
       "      <td>2</td>\n",
       "      <td>2</td>\n",
       "      <td>2</td>\n",
       "      <td>2</td>\n",
       "      <td>2</td>\n",
       "      <td>2</td>\n",
       "      <td>2.0</td>\n",
       "      <td>2.0</td>\n",
       "      <td>2.0</td>\n",
       "      <td>2.0</td>\n",
       "      <td>2.0</td>\n",
       "      <td>1</td>\n",
       "      <td>NaT</td>\n",
       "      <td>NaN</td>\n",
       "      <td>2020-04-24</td>\n",
       "      <td>4.0</td>\n",
       "      <td>2</td>\n",
       "      <td>NaN</td>\n",
       "      <td>NaN</td>\n",
       "      <td>NaN</td>\n",
       "      <td>NaT</td>\n",
       "      <td>NaN</td>\n",
       "      <td>NaN</td>\n",
       "    </tr>\n",
       "    <tr>\n",
       "      <th>3</th>\n",
       "      <td>59689</td>\n",
       "      <td>2</td>\n",
       "      <td>U07.1</td>\n",
       "      <td>Infecção pelo novo Coronavírus (COVID-19)</td>\n",
       "      <td>5379679</td>\n",
       "      <td>PRONTO ATENDIMENTO UNIMED VITORIA PA</td>\n",
       "      <td>2020-04-27</td>\n",
       "      <td>18</td>\n",
       "      <td>2020</td>\n",
       "      <td>ES</td>\n",
       "      <td>320530</td>\n",
       "      <td>VITORIA</td>\n",
       "      <td>2020-04-17</td>\n",
       "      <td>16</td>\n",
       "      <td>700002964321005</td>\n",
       "      <td>1965-12-27</td>\n",
       "      <td>54</td>\n",
       "      <td>Feminino</td>\n",
       "      <td>Não</td>\n",
       "      <td>Branca</td>\n",
       "      <td>Educação superior completa</td>\n",
       "      <td>ES</td>\n",
       "      <td>320530</td>\n",
       "      <td>VITORIA</td>\n",
       "      <td>BARRO VERMELHO</td>\n",
       "      <td>NaN</td>\n",
       "      <td>27999798239</td>\n",
       "      <td>-20.2953</td>\n",
       "      <td>-40.2981</td>\n",
       "      <td>Urbana</td>\n",
       "      <td>BRASIL</td>\n",
       "      <td>2.0</td>\n",
       "      <td>999991.0</td>\n",
       "      <td>Dona de Casa</td>\n",
       "      <td>1.0</td>\n",
       "      <td>1</td>\n",
       "      <td>2</td>\n",
       "      <td>2</td>\n",
       "      <td>2</td>\n",
       "      <td>2</td>\n",
       "      <td>2</td>\n",
       "      <td>1</td>\n",
       "      <td>2</td>\n",
       "      <td>1.0</td>\n",
       "      <td>1</td>\n",
       "      <td>2</td>\n",
       "      <td>2</td>\n",
       "      <td>1</td>\n",
       "      <td>1</td>\n",
       "      <td>1</td>\n",
       "      <td>1</td>\n",
       "      <td>1</td>\n",
       "      <td>2</td>\n",
       "      <td>2</td>\n",
       "      <td>2</td>\n",
       "      <td>NaN</td>\n",
       "      <td>2.0</td>\n",
       "      <td>NaT</td>\n",
       "      <td>NaT</td>\n",
       "      <td>NaT</td>\n",
       "      <td>NaN</td>\n",
       "      <td>NaN</td>\n",
       "      <td>NaN</td>\n",
       "      <td>NaN</td>\n",
       "      <td>2.0</td>\n",
       "      <td>1.0</td>\n",
       "      <td>NaN</td>\n",
       "      <td>2.0</td>\n",
       "      <td>2.0</td>\n",
       "      <td>2</td>\n",
       "      <td>1</td>\n",
       "      <td>2</td>\n",
       "      <td>2</td>\n",
       "      <td>2</td>\n",
       "      <td>2</td>\n",
       "      <td>2</td>\n",
       "      <td>2</td>\n",
       "      <td>2</td>\n",
       "      <td>2.0</td>\n",
       "      <td>2.0</td>\n",
       "      <td>2.0</td>\n",
       "      <td>2.0</td>\n",
       "      <td>2.0</td>\n",
       "      <td>1</td>\n",
       "      <td>NaT</td>\n",
       "      <td>NaN</td>\n",
       "      <td>2020-04-27</td>\n",
       "      <td>4.0</td>\n",
       "      <td>2</td>\n",
       "      <td>NaN</td>\n",
       "      <td>NaN</td>\n",
       "      <td>NaN</td>\n",
       "      <td>NaT</td>\n",
       "      <td>NaN</td>\n",
       "      <td>NaN</td>\n",
       "    </tr>\n",
       "    <tr>\n",
       "      <th>4</th>\n",
       "      <td>59674</td>\n",
       "      <td>2</td>\n",
       "      <td>U07.1</td>\n",
       "      <td>Infecção pelo novo Coronavírus (COVID-19)</td>\n",
       "      <td>5379679</td>\n",
       "      <td>PRONTO ATENDIMENTO UNIMED VITORIA PA</td>\n",
       "      <td>2020-04-27</td>\n",
       "      <td>18</td>\n",
       "      <td>2020</td>\n",
       "      <td>ES</td>\n",
       "      <td>320530</td>\n",
       "      <td>VITORIA</td>\n",
       "      <td>2020-04-20</td>\n",
       "      <td>17</td>\n",
       "      <td>706205070715463</td>\n",
       "      <td>2001-06-04</td>\n",
       "      <td>19</td>\n",
       "      <td>Feminino</td>\n",
       "      <td>Não</td>\n",
       "      <td>Branca</td>\n",
       "      <td>Ensino médio completo (antigo colegial ou 2º g...</td>\n",
       "      <td>ES</td>\n",
       "      <td>320530</td>\n",
       "      <td>VITORIA</td>\n",
       "      <td>BARRO VERMELHO</td>\n",
       "      <td>NaN</td>\n",
       "      <td>27998962209</td>\n",
       "      <td>-20.2953</td>\n",
       "      <td>-40.2981</td>\n",
       "      <td>Urbana</td>\n",
       "      <td>BRASIL</td>\n",
       "      <td>2.0</td>\n",
       "      <td>999992.0</td>\n",
       "      <td>Estudante</td>\n",
       "      <td>1.0</td>\n",
       "      <td>1</td>\n",
       "      <td>2</td>\n",
       "      <td>2</td>\n",
       "      <td>2</td>\n",
       "      <td>2</td>\n",
       "      <td>2</td>\n",
       "      <td>2</td>\n",
       "      <td>2</td>\n",
       "      <td>1.0</td>\n",
       "      <td>1</td>\n",
       "      <td>1</td>\n",
       "      <td>2</td>\n",
       "      <td>2</td>\n",
       "      <td>2</td>\n",
       "      <td>1</td>\n",
       "      <td>2</td>\n",
       "      <td>2</td>\n",
       "      <td>2</td>\n",
       "      <td>2</td>\n",
       "      <td>2</td>\n",
       "      <td>NaN</td>\n",
       "      <td>2.0</td>\n",
       "      <td>NaT</td>\n",
       "      <td>NaT</td>\n",
       "      <td>NaT</td>\n",
       "      <td>NaN</td>\n",
       "      <td>NaN</td>\n",
       "      <td>NaN</td>\n",
       "      <td>NaN</td>\n",
       "      <td>2.0</td>\n",
       "      <td>1.0</td>\n",
       "      <td>NaN</td>\n",
       "      <td>2.0</td>\n",
       "      <td>2.0</td>\n",
       "      <td>2</td>\n",
       "      <td>2</td>\n",
       "      <td>2</td>\n",
       "      <td>2</td>\n",
       "      <td>2</td>\n",
       "      <td>2</td>\n",
       "      <td>2</td>\n",
       "      <td>2</td>\n",
       "      <td>2</td>\n",
       "      <td>2.0</td>\n",
       "      <td>2.0</td>\n",
       "      <td>2.0</td>\n",
       "      <td>2.0</td>\n",
       "      <td>2.0</td>\n",
       "      <td>1</td>\n",
       "      <td>NaT</td>\n",
       "      <td>NaN</td>\n",
       "      <td>2020-04-27</td>\n",
       "      <td>4.0</td>\n",
       "      <td>2</td>\n",
       "      <td>NaN</td>\n",
       "      <td>NaN</td>\n",
       "      <td>NaN</td>\n",
       "      <td>NaT</td>\n",
       "      <td>NaN</td>\n",
       "      <td>NaN</td>\n",
       "    </tr>\n",
       "  </tbody>\n",
       "</table>\n",
       "</div>"
      ],
      "text/plain": [
       "   NU_NOTIFIC  TP_NOT ID_AGRAVO                                     AGRAVO  \\\n",
       "0       59702       2     U07.1  Infecção pelo novo Coronavírus (COVID-19)   \n",
       "1       59698       2     U07.1  Infecção pelo novo Coronavírus (COVID-19)   \n",
       "2       59697       2     U07.1  Infecção pelo novo Coronavírus (COVID-19)   \n",
       "3       59689       2     U07.1  Infecção pelo novo Coronavírus (COVID-19)   \n",
       "4       59674       2     U07.1  Infecção pelo novo Coronavírus (COVID-19)   \n",
       "\n",
       "   ID_UNIDADE                                       NM_UNID DT_NOTIFIC  \\\n",
       "0     3450198                    VITORIA APART HOSPITAL S A 2020-04-27   \n",
       "1     7301413  CREMASCO MEDICINA DIAGNOSTICA LTDA FILIAL 01 2020-04-27   \n",
       "2     3536831                        LABORATORIO BIOCLINICO 2020-04-27   \n",
       "3     5379679          PRONTO ATENDIMENTO UNIMED VITORIA PA 2020-04-27   \n",
       "4     5379679          PRONTO ATENDIMENTO UNIMED VITORIA PA 2020-04-27   \n",
       "\n",
       "   SEM_NOT  NU_ANO SG_UF_NOT  ID_MUNICIP NM_MUNICIP DT_SIN_PRI  SEM_PRI  \\\n",
       "0       18    2020        ES      320500      SERRA 2020-04-20       17   \n",
       "1       18    2020        ES      320130  CARIACICA 2020-04-23       17   \n",
       "2       18    2020        ES      320530    VITORIA 2020-04-16       16   \n",
       "3       18    2020        ES      320530    VITORIA 2020-04-17       16   \n",
       "4       18    2020        ES      320530    VITORIA 2020-04-20       17   \n",
       "\n",
       "               CNS    DT_NASC  NU_IDADE_N    CS_SEXO     CS_GESTANT   CS_RACA  \\\n",
       "0      19606989747 2003-12-26          16   Feminino            Não  Ignorado   \n",
       "1  703201699555394 1988-01-01          32  Masculino  Não se aplica  Ignorado   \n",
       "2  705005488962153 1983-11-23          36   Feminino            Não  Ignorado   \n",
       "3  700002964321005 1965-12-27          54   Feminino            Não    Branca   \n",
       "4  706205070715463 2001-06-04          19   Feminino            Não    Branca   \n",
       "\n",
       "                                          CS_ESCOL_N SG_UF  ID_MN_RESI  \\\n",
       "0                                           Ignorado    ES      320530   \n",
       "1                                           Ignorado    ES      320530   \n",
       "2                                           Ignorado    ES      320530   \n",
       "3                         Educação superior completa    ES      320530   \n",
       "4  Ensino médio completo (antigo colegial ou 2º g...    ES      320530   \n",
       "\n",
       "  NM_MN_RESI        NM_BAIRRO NM_NAO_ENCONTRADO     TELEFONE  LAT_BAIRRO  \\\n",
       "0    VITORIA   JARDIM CAMBURI               NaN   2730393845    -20.2566   \n",
       "1    VITORIA  JARDIM DA PENHA               NaN  27999713259    -20.2845   \n",
       "2    VITORIA   JARDIM CAMBURI               NaN  27997354687    -20.2566   \n",
       "3    VITORIA   BARRO VERMELHO               NaN  27999798239    -20.2953   \n",
       "4    VITORIA   BARRO VERMELHO               NaN  27998962209    -20.2953   \n",
       "\n",
       "   LONG_BAIRRO CS_ZONA ID_PAIS  IS_PROFISSIONAL_SAUDE       CBO        NM_CBO  \\\n",
       "0     -40.2677  Urbana  BRASIL                    2.0       NaN           NaN   \n",
       "1     -40.2948  Urbana  BRASIL                    NaN       NaN           NaN   \n",
       "2     -40.2677  Urbana  BRASIL                    9.0       NaN           NaN   \n",
       "3     -40.2981  Urbana  BRASIL                    2.0  999991.0  Dona de Casa   \n",
       "4     -40.2981  Urbana  BRASIL                    2.0  999992.0     Estudante   \n",
       "\n",
       "   SINT_FEBRE  SINT_DIF_RESP  SINT_NARIZ  SINT_TIRAG  SINT_CIAN  SINT_SAT  \\\n",
       "0         1.0              1           2           2          2         2   \n",
       "1         2.0              2           2           2          2         2   \n",
       "2         2.0              2           2           2          2         2   \n",
       "3         1.0              1           2           2          2         2   \n",
       "4         1.0              1           2           2          2         2   \n",
       "\n",
       "   SINT_COMA  SINT_TOSSE  SINT_ESCA  SINT_CONG_NAZ  SINT_CORIZA  \\\n",
       "0          2           2          2            2.0            2   \n",
       "1          2           2          2            2.0            2   \n",
       "2          2           2          2            2.0            2   \n",
       "3          2           1          2            1.0            1   \n",
       "4          2           2          2            1.0            1   \n",
       "\n",
       "   SINT_GARGANTA  SINT_DIF_ENGO  SINT_DIARREIA  SINT_NAUZ  SINT_CEFALEIA  \\\n",
       "0              2              2              2          2              2   \n",
       "1              2              2              2          2              2   \n",
       "2              2              2              2          2              2   \n",
       "3              2              2              1          1              1   \n",
       "4              1              2              2          2              1   \n",
       "\n",
       "   SINT_IRRITABI  SINT_ADINAMIA  SINT_EXSUDATO  SINT_CONJUT  SINT_CONVULSAO  \\\n",
       "0              2              2              2            2               2   \n",
       "1              2              2              2            2               2   \n",
       "2              2              2              2            2               2   \n",
       "3              1              1              2            2               2   \n",
       "4              2              2              2            2               2   \n",
       "\n",
       "  NM_SINTOMAS_OUTROS  FICOU_INTERNADO DT_INTERNACAO DT_ALTA_INTERNACAO  \\\n",
       "0         ODINOFAGIA              2.0           NaT                NaT   \n",
       "1                NaN              NaN           NaT                NaT   \n",
       "2                NaN              2.0           NaT                NaT   \n",
       "3                NaN              2.0           NaT                NaT   \n",
       "4                NaN              2.0           NaT                NaT   \n",
       "\n",
       "  DT_INTERNACAO_UTI DT_ALTA_UTI UF_INTERNACAO  MUNICIPIO_INTERNACAO  \\\n",
       "0               NaT         NaN           NaN                   NaN   \n",
       "1               NaT         NaN           NaN                   NaN   \n",
       "2               NaT         NaN           NaN                   NaN   \n",
       "3               NaT         NaN           NaN                   NaN   \n",
       "4               NaT         NaN           NaN                   NaN   \n",
       "\n",
       "   ID_UNIDADE_INT  INTERNADO_UTI  CONTATO_SUSP  RESIDE_SUSP  VIAGEM_BRASIL  \\\n",
       "0             NaN            2.0           2.0          NaN            2.0   \n",
       "1             NaN            NaN           NaN          NaN            NaN   \n",
       "2             NaN            2.0           9.0          NaN            9.0   \n",
       "3             NaN            2.0           1.0          NaN            2.0   \n",
       "4             NaN            2.0           1.0          NaN            2.0   \n",
       "\n",
       "   VIAGEM_INTERNACIONAL  COMORB_PULM  COMORB_CARDIO  COMORB_RENAL  \\\n",
       "0                   2.0            1              2             2   \n",
       "1                   NaN            2              2             2   \n",
       "2                   9.0            2              2             2   \n",
       "3                   2.0            2              1             2   \n",
       "4                   2.0            2              2             2   \n",
       "\n",
       "   COMORB_HEPAT  COMORB_DIABE  COMORB_IMUN  COMORB_HIV  COMORB_NEOPL  \\\n",
       "0             2             2            2           2             2   \n",
       "1             2             2            2           2             2   \n",
       "2             2             2            2           2             2   \n",
       "3             2             2            2           2             2   \n",
       "4             2             2            2           2             2   \n",
       "\n",
       "   COMORB_TABAG  COMORB_CIRURGIA_BARIAT  COMORB_OBESIDADE  COMORB_TUBERCULOSE  \\\n",
       "0             2                     2.0               2.0                 2.0   \n",
       "1             2                     2.0               2.0                 2.0   \n",
       "2             2                     2.0               2.0                 2.0   \n",
       "3             2                     2.0               2.0                 2.0   \n",
       "4             2                     2.0               2.0                 2.0   \n",
       "\n",
       "   COMORB_NEOPLASIAS  COMORB_NEURO_CRONICA  AMOSTRA_RT_PCR DT_COLETA_T_RAPIDO  \\\n",
       "0                2.0                   2.0               2                NaT   \n",
       "1                2.0                   2.0               1                NaT   \n",
       "2                2.0                   2.0               1                NaT   \n",
       "3                2.0                   2.0               1                NaT   \n",
       "4                2.0                   2.0               1                NaT   \n",
       "\n",
       "   RESULTADO_T_RAPIDO DT_COLETA_RT_PCR  RESULTADO_RT_PCR  AMOSTRA_T_RAPIDO  \\\n",
       "0                 NaN              NaT               NaN                 2   \n",
       "1                 NaN       2020-04-24               2.0                 2   \n",
       "2                 NaN       2020-04-24               4.0                 2   \n",
       "3                 NaN       2020-04-27               4.0                 2   \n",
       "4                 NaN       2020-04-27               4.0                 2   \n",
       "\n",
       "   CLASS_FINAL  CRIT_CONF  EVOLUCAO DT_ENCERRAMENTO MUNICIPIOS_VISITADOS  \\\n",
       "0          NaN        NaN       NaN             NaT                  NaN   \n",
       "1          4.0        1.0       9.0      2020-04-27                  NaN   \n",
       "2          NaN        NaN       NaN             NaT                  NaN   \n",
       "3          NaN        NaN       NaN             NaT                  NaN   \n",
       "4          NaN        NaN       NaN             NaT                  NaN   \n",
       "\n",
       "  PAISES_VISITADOS  \n",
       "0              NaN  \n",
       "1              NaN  \n",
       "2              NaN  \n",
       "3              NaN  \n",
       "4              NaN  "
      ]
     },
     "execution_count": 5,
     "metadata": {},
     "output_type": "execute_result"
    }
   ],
   "source": [
    "df.head(5)"
   ]
  },
  {
   "cell_type": "code",
   "execution_count": 42,
   "metadata": {},
   "outputs": [
    {
     "data": {
      "text/plain": [
       "2.0    1008\n",
       "1.0     575\n",
       "9.0     210\n",
       "Name: IS_PROFISSIONAL_SAUDE, dtype: int64"
      ]
     },
     "execution_count": 42,
     "metadata": {},
     "output_type": "execute_result"
    }
   ],
   "source": [
    "df['IS_PROFISSIONAL_SAUDE'].value_counts()"
   ]
  },
  {
   "cell_type": "code",
   "execution_count": 4,
   "metadata": {},
   "outputs": [
    {
     "data": {
      "text/plain": [
       "(2942, 95)"
      ]
     },
     "execution_count": 4,
     "metadata": {},
     "output_type": "execute_result"
    }
   ],
   "source": [
    "df.shape"
   ]
  },
  {
   "cell_type": "code",
   "execution_count": 5,
   "metadata": {
    "scrolled": true
   },
   "outputs": [
    {
     "data": {
      "text/plain": [
       "['NU_NOTIFIC',\n",
       " 'TP_NOT',\n",
       " 'ID_AGRAVO',\n",
       " 'AGRAVO',\n",
       " 'ID_UNIDADE',\n",
       " 'NM_UNID',\n",
       " 'DT_NOTIFIC',\n",
       " 'SEM_NOT',\n",
       " 'NU_ANO',\n",
       " 'SG_UF_NOT',\n",
       " 'ID_MUNICIP',\n",
       " 'NM_MUNICIP',\n",
       " 'DT_SIN_PRI',\n",
       " 'SEM_PRI',\n",
       " 'CNS',\n",
       " 'DT_NASC',\n",
       " 'NU_IDADE_N',\n",
       " 'CS_SEXO',\n",
       " 'CS_GESTANT',\n",
       " 'CS_RACA',\n",
       " 'CS_ESCOL_N',\n",
       " 'SG_UF',\n",
       " 'ID_MN_RESI',\n",
       " 'NM_MN_RESI',\n",
       " 'NM_BAIRRO',\n",
       " 'NM_NAO_ENCONTRADO',\n",
       " 'TELEFONE',\n",
       " 'LAT_BAIRRO',\n",
       " 'LONG_BAIRRO',\n",
       " 'CS_ZONA',\n",
       " 'ID_PAIS',\n",
       " 'IS_PROFISSIONAL_SAUDE',\n",
       " 'CBO',\n",
       " 'NM_CBO',\n",
       " 'SINT_FEBRE',\n",
       " 'SINT_DIF_RESP',\n",
       " 'SINT_NARIZ',\n",
       " 'SINT_TIRAG',\n",
       " 'SINT_CIAN',\n",
       " 'SINT_SAT',\n",
       " 'SINT_COMA',\n",
       " 'SINT_TOSSE',\n",
       " 'SINT_ESCA',\n",
       " 'SINT_CONG_NAZ',\n",
       " 'SINT_CORIZA',\n",
       " 'SINT_GARGANTA',\n",
       " 'SINT_DIF_ENGO',\n",
       " 'SINT_DIARREIA',\n",
       " 'SINT_NAUZ',\n",
       " 'SINT_CEFALEIA',\n",
       " 'SINT_IRRITABI',\n",
       " 'SINT_ADINAMIA',\n",
       " 'SINT_EXSUDATO',\n",
       " 'SINT_CONJUT',\n",
       " 'SINT_CONVULSAO',\n",
       " 'NM_SINTOMAS_OUTROS',\n",
       " 'FICOU_INTERNADO',\n",
       " 'DT_INTERNACAO',\n",
       " 'DT_ALTA_INTERNACAO',\n",
       " 'DT_INTERNACAO_UTI',\n",
       " 'DT_ALTA_UTI',\n",
       " 'UF_INTERNACAO',\n",
       " 'MUNICIPIO_INTERNACAO',\n",
       " 'ID_UNIDADE_INT',\n",
       " 'INTERNADO_UTI',\n",
       " 'CONTATO_SUSP',\n",
       " 'RESIDE_SUSP',\n",
       " 'VIAGEM_BRASIL',\n",
       " 'VIAGEM_INTERNACIONAL',\n",
       " 'COMORB_PULM',\n",
       " 'COMORB_CARDIO',\n",
       " 'COMORB_RENAL',\n",
       " 'COMORB_HEPAT',\n",
       " 'COMORB_DIABE',\n",
       " 'COMORB_IMUN',\n",
       " 'COMORB_HIV',\n",
       " 'COMORB_NEOPL',\n",
       " 'COMORB_TABAG',\n",
       " 'COMORB_CIRURGIA_BARIAT',\n",
       " 'COMORB_OBESIDADE',\n",
       " 'COMORB_TUBERCULOSE',\n",
       " 'COMORB_NEOPLASIAS',\n",
       " 'COMORB_NEURO_CRONICA',\n",
       " 'AMOSTRA_RT_PCR',\n",
       " 'DT_COLETA_T_RAPIDO',\n",
       " 'RESULTADO_T_RAPIDO',\n",
       " 'DT_COLETA_RT_PCR',\n",
       " 'RESULTADO_RT_PCR',\n",
       " 'AMOSTRA_T_RAPIDO',\n",
       " 'CLASS_FINAL',\n",
       " 'CRIT_CONF',\n",
       " 'EVOLUCAO',\n",
       " 'DT_ENCERRAMENTO',\n",
       " 'MUNICIPIOS_VISITADOS',\n",
       " 'PAISES_VISITADOS']"
      ]
     },
     "execution_count": 5,
     "metadata": {},
     "output_type": "execute_result"
    }
   ],
   "source": [
    "df.columns.tolist()"
   ]
  },
  {
   "cell_type": "code",
   "execution_count": 6,
   "metadata": {},
   "outputs": [
    {
     "data": {
      "text/plain": [
       "2    2942\n",
       "Name: TP_NOT, dtype: int64"
      ]
     },
     "execution_count": 6,
     "metadata": {},
     "output_type": "execute_result"
    }
   ],
   "source": [
    "# DROP\n",
    "\n",
    "df['TP_NOT'].value_counts()"
   ]
  },
  {
   "cell_type": "code",
   "execution_count": 7,
   "metadata": {},
   "outputs": [
    {
     "data": {
      "text/plain": [
       "Infecção pelo novo Coronavírus (COVID-19)    2942\n",
       "Name: AGRAVO, dtype: int64"
      ]
     },
     "execution_count": 7,
     "metadata": {},
     "output_type": "execute_result"
    }
   ],
   "source": [
    "# DROP\n",
    "\n",
    "df['AGRAVO'].value_counts()"
   ]
  },
  {
   "cell_type": "code",
   "execution_count": 8,
   "metadata": {},
   "outputs": [
    {
     "data": {
      "text/plain": [
       "111"
      ]
     },
     "execution_count": 8,
     "metadata": {},
     "output_type": "execute_result"
    }
   ],
   "source": [
    "# DROP por causa da quantidade de unidades\n",
    "\n",
    "df['ID_UNIDADE'].nunique()"
   ]
  },
  {
   "cell_type": "code",
   "execution_count": 9,
   "metadata": {},
   "outputs": [
    {
     "data": {
      "text/plain": [
       "107"
      ]
     },
     "execution_count": 9,
     "metadata": {},
     "output_type": "execute_result"
    }
   ],
   "source": [
    "# DROP por mesmo motivo de cima\n",
    "\n",
    "df['NM_UNID'].nunique()"
   ]
  },
  {
   "cell_type": "code",
   "execution_count": 10,
   "metadata": {},
   "outputs": [
    {
     "data": {
      "image/png": "[encoded data removed]",
      "text/plain": [
       "<Figure size 1440x432 with 1 Axes>"
      ]
     },
     "metadata": {
      "needs_background": "light"
     },
     "output_type": "display_data"
    }
   ],
   "source": [
    "plt.figure(figsize=(20,6))\n",
    "plt.plot(df.groupby('DT_NOTIFIC').count()['AGRAVO'])\n",
    "plt.title('Número de notificações por dia', fontsize=15)\n",
    "plt.show()"
   ]
  },
  {
   "cell_type": "code",
   "execution_count": 11,
   "metadata": {},
   "outputs": [
    {
     "data": {
      "text/plain": [
       "17    990\n",
       "16    907\n",
       "15    495\n",
       "14    163\n",
       "18    150\n",
       "12    137\n",
       "13     57\n",
       "11     37\n",
       "10      6\n",
       "Name: SEM_NOT, dtype: int64"
      ]
     },
     "execution_count": 11,
     "metadata": {},
     "output_type": "execute_result"
    }
   ],
   "source": [
    "# DROP por não ter fins práticos\n",
    "\n",
    "df['SEM_NOT'].value_counts()"
   ]
  },
  {
   "cell_type": "code",
   "execution_count": 12,
   "metadata": {},
   "outputs": [
    {
     "data": {
      "text/plain": [
       "ES    2942\n",
       "Name: SG_UF_NOT, dtype: int64"
      ]
     },
     "execution_count": 12,
     "metadata": {},
     "output_type": "execute_result"
    }
   ],
   "source": [
    "# DROP\n",
    "\n",
    "df['SG_UF_NOT'].value_counts()"
   ]
  },
  {
   "cell_type": "code",
   "execution_count": 13,
   "metadata": {},
   "outputs": [
    {
     "data": {
      "text/plain": [
       "VITORIA           2100\n",
       "VILA VELHA         452\n",
       "SERRA              283\n",
       "CARIACICA           92\n",
       "ALFREDO CHAVES       3\n",
       "ARACRUZ              2\n",
       "GUARAPARI            2\n",
       "VIANA                2\n",
       "LINHARES             2\n",
       "AFONSO CLAUDIO       1\n",
       "FUNDAO               1\n",
       "PIUMA                1\n",
       "MARATAIZES           1\n",
       "Name: NM_MUNICIP, dtype: int64"
      ]
     },
     "execution_count": 13,
     "metadata": {},
     "output_type": "execute_result"
    }
   ],
   "source": [
    "# útil, mas deverá ser feito processamento para diminuir quantidade de features\n",
    "\n",
    "df['NM_MUNICIP'].value_counts()"
   ]
  },
  {
   "cell_type": "code",
   "execution_count": 14,
   "metadata": {},
   "outputs": [
    {
     "data": {
      "text/plain": [
       "2020-04-17    154\n",
       "2020-04-14    147\n",
       "2020-04-12    138\n",
       "2020-04-16    137\n",
       "2020-04-13    133\n",
       "             ... \n",
       "2020-02-19      1\n",
       "2020-01-30      1\n",
       "2020-02-18      1\n",
       "2020-01-10      1\n",
       "2020-01-15      1\n",
       "Name: DT_SIN_PRI, Length: 65, dtype: int64"
      ]
     },
     "execution_count": 14,
     "metadata": {},
     "output_type": "execute_result"
    }
   ],
   "source": [
    "# Será útil para criação da feature da diferença de dias entre a notificação e 1o sintoma\n",
    "\n",
    "df['DT_SIN_PRI'].value_counts()"
   ]
  },
  {
   "cell_type": "code",
   "execution_count": 15,
   "metadata": {},
   "outputs": [
    {
     "data": {
      "text/plain": [
       "2625"
      ]
     },
     "execution_count": 15,
     "metadata": {},
     "output_type": "execute_result"
    }
   ],
   "source": [
    "#DROP\n",
    "\n",
    "df['CNS'].nunique()"
   ]
  },
  {
   "cell_type": "code",
   "execution_count": 16,
   "metadata": {},
   "outputs": [
    {
     "data": {
      "text/plain": [
       "0       16\n",
       "1       32\n",
       "2       36\n",
       "3       54\n",
       "4       19\n",
       "        ..\n",
       "2937    50\n",
       "2938    17\n",
       "2939    56\n",
       "2940    37\n",
       "2941    77\n",
       "Name: NU_IDADE_N, Length: 2942, dtype: int64"
      ]
     },
     "execution_count": 16,
     "metadata": {},
     "output_type": "execute_result"
    }
   ],
   "source": [
    "# ÚTIL\n",
    "\n",
    "df['NU_IDADE_N']"
   ]
  },
  {
   "cell_type": "code",
   "execution_count": 17,
   "metadata": {},
   "outputs": [
    {
     "data": {
      "text/plain": [
       "Feminino     1760\n",
       "Masculino    1181\n",
       "Ignorado        1\n",
       "Name: CS_SEXO, dtype: int64"
      ]
     },
     "execution_count": 17,
     "metadata": {},
     "output_type": "execute_result"
    }
   ],
   "source": [
    "# ÚTIL\n",
    "\n",
    "df['CS_SEXO'].value_counts()"
   ]
  },
  {
   "cell_type": "code",
   "execution_count": 18,
   "metadata": {},
   "outputs": [
    {
     "data": {
      "text/plain": [
       "Não              1702\n",
       "Não se aplica    1201\n",
       "Ignorado           23\n",
       "2º trimeste         6\n",
       "3º trimeste         6\n",
       "1º trimeste         4\n",
       "Name: CS_GESTANT, dtype: int64"
      ]
     },
     "execution_count": 18,
     "metadata": {},
     "output_type": "execute_result"
    }
   ],
   "source": [
    "# ÚTIL\n",
    "\n",
    "df['CS_GESTANT'].value_counts()"
   ]
  },
  {
   "cell_type": "code",
   "execution_count": 19,
   "metadata": {},
   "outputs": [
    {
     "data": {
      "text/plain": [
       "Ignorado    1286\n",
       "Branca       771\n",
       "Parda        700\n",
       "Preta        135\n",
       "Amarela       45\n",
       "Indigena       5\n",
       "Name: CS_RACA, dtype: int64"
      ]
     },
     "execution_count": 19,
     "metadata": {},
     "output_type": "execute_result"
    }
   ],
   "source": [
    "# ÚTIL\n",
    "\n",
    "df['CS_RACA'].value_counts()"
   ]
  },
  {
   "cell_type": "code",
   "execution_count": 20,
   "metadata": {},
   "outputs": [
    {
     "data": {
      "text/plain": [
       "Ignorado                                                       1444\n",
       "Educação superior completa                                      640\n",
       "Ensino médio completo (antigo colegial ou 2º grau )             400\n",
       "5ª à 8ª série incompleta do EF (antigo ginásio ou 1º grau)       87\n",
       "Ensino médio incompleto (antigo colegial ou 2º grau )            86\n",
       "Educação superior incompleta                                     77\n",
       "Ensino fundamental completo (antigo ginásio ou 1º grau)          67\n",
       "Não se aplica                                                    63\n",
       "1ª a 4ª série incompleta do EF (antigo primário ou 1º grau)      34\n",
       "Analfabeto                                                       26\n",
       "4ª série completa do EF (antigo primário ou 1º grau)             18\n",
       "Name: CS_ESCOL_N, dtype: int64"
      ]
     },
     "execution_count": 20,
     "metadata": {},
     "output_type": "execute_result"
    }
   ],
   "source": [
    "# DROP\n",
    "\n",
    "df['CS_ESCOL_N'].value_counts()"
   ]
  },
  {
   "cell_type": "code",
   "execution_count": 21,
   "metadata": {},
   "outputs": [
    {
     "data": {
      "text/plain": [
       "VITORIA    2942\n",
       "Name: NM_MN_RESI, dtype: int64"
      ]
     },
     "execution_count": 21,
     "metadata": {},
     "output_type": "execute_result"
    }
   ],
   "source": [
    "# DROP\n",
    "\n",
    "df['NM_MN_RESI'].value_counts()"
   ]
  },
  {
   "cell_type": "code",
   "execution_count": 22,
   "metadata": {},
   "outputs": [
    {
     "data": {
      "text/plain": [
       "2668"
      ]
     },
     "execution_count": 22,
     "metadata": {},
     "output_type": "execute_result"
    }
   ],
   "source": [
    "# DROP\n",
    "\n",
    "df['NM_NAO_ENCONTRADO'].isnull().sum()"
   ]
  },
  {
   "cell_type": "code",
   "execution_count": 23,
   "metadata": {},
   "outputs": [
    {
     "data": {
      "text/plain": [
       "Urbana      2849\n",
       "Ignorado      90\n",
       "Name: CS_ZONA, dtype: int64"
      ]
     },
     "execution_count": 23,
     "metadata": {},
     "output_type": "execute_result"
    }
   ],
   "source": [
    "# ÚTIL\n",
    "\n",
    "df['CS_ZONA'].value_counts()"
   ]
  },
  {
   "cell_type": "code",
   "execution_count": 24,
   "metadata": {},
   "outputs": [
    {
     "data": {
      "text/plain": [
       "2.0    1008\n",
       "1.0     575\n",
       "9.0     210\n",
       "Name: IS_PROFISSIONAL_SAUDE, dtype: int64"
      ]
     },
     "execution_count": 24,
     "metadata": {},
     "output_type": "execute_result"
    }
   ],
   "source": [
    "# ÚTIL\n",
    "\n",
    "df['IS_PROFISSIONAL_SAUDE'].value_counts()"
   ]
  },
  {
   "cell_type": "code",
   "execution_count": 25,
   "metadata": {},
   "outputs": [
    {
     "data": {
      "text/plain": [
       "Técnico de enfermagem                                           150\n",
       "Médico clínico                                                  109\n",
       "Aposentado                                                       90\n",
       "Enfermeiro                                                       86\n",
       "Estudante                                                        60\n",
       "                                                               ... \n",
       "Auxiliar de biblioteca                                            1\n",
       "Técnico de telecomunicaçoes (telefonia)                           1\n",
       "Pintor a pincel e rolo (exceto obras e estruturas metálicas)      1\n",
       "Coletor de lixo                                                   1\n",
       "Engenheiro químico                                                1\n",
       "Name: NM_CBO, Length: 179, dtype: int64"
      ]
     },
     "execution_count": 25,
     "metadata": {},
     "output_type": "execute_result"
    }
   ],
   "source": [
    "#DROP\n",
    "\n",
    "df['NM_CBO'].value_counts()"
   ]
  },
  {
   "cell_type": "code",
   "execution_count": 26,
   "metadata": {},
   "outputs": [
    {
     "data": {
      "text/plain": [
       "DISPNEIA/TAQUIPNEIA                                      44\n",
       "MIALGIA                                                  41\n",
       "SEM SINTOMAS                                             36\n",
       "mialgia                                                  32\n",
       "sem sintomas                                             23\n",
       "                                                         ..\n",
       "ALTERAÇÃO NA RADIOLOGIA DE TÓRAX, DISPNEIA/TAQUIPNEIA     1\n",
       "AUSENCIA DE OLFATO E POUCO PALADAR                        1\n",
       "dor abdominal difusa                                      1\n",
       "CANSAÇO, MIALGIA, SUDORESE, CALAFRIOS,  DISPNEIA          1\n",
       "anosmia e cacosmia                                        1\n",
       "Name: NM_SINTOMAS_OUTROS, Length: 448, dtype: int64"
      ]
     },
     "execution_count": 26,
     "metadata": {},
     "output_type": "execute_result"
    }
   ],
   "source": [
    " #ÚTIL PARA TRANSFORMAR\n",
    "\n",
    "df['NM_SINTOMAS_OUTROS'].value_counts()"
   ]
  },
  {
   "cell_type": "code",
   "execution_count": 27,
   "metadata": {},
   "outputs": [
    {
     "data": {
      "text/plain": [
       "1.0    968\n",
       "2.0    946\n",
       "9.0    204\n",
       "Name: CONTATO_SUSP, dtype: int64"
      ]
     },
     "execution_count": 27,
     "metadata": {},
     "output_type": "execute_result"
    }
   ],
   "source": [
    "# ÚTIL\n",
    "\n",
    "df['CONTATO_SUSP'].value_counts()"
   ]
  },
  {
   "cell_type": "code",
   "execution_count": 28,
   "metadata": {},
   "outputs": [
    {
     "data": {
      "text/plain": [
       "Series([], Name: RESIDE_SUSP, dtype: int64)"
      ]
     },
     "execution_count": 28,
     "metadata": {},
     "output_type": "execute_result"
    }
   ],
   "source": [
    "df['RESIDE_SUSP'].value_counts()"
   ]
  },
  {
   "cell_type": "code",
   "execution_count": 29,
   "metadata": {},
   "outputs": [
    {
     "data": {
      "text/plain": [
       "2.0    1768\n",
       "9.0     123\n",
       "1.0      66\n",
       "Name: VIAGEM_BRASIL, dtype: int64"
      ]
     },
     "execution_count": 29,
     "metadata": {},
     "output_type": "execute_result"
    }
   ],
   "source": [
    "df['VIAGEM_BRASIL'].value_counts()"
   ]
  },
  {
   "cell_type": "code",
   "execution_count": 30,
   "metadata": {},
   "outputs": [
    {
     "data": {
      "text/plain": [
       "2.0    1754\n",
       "9.0     112\n",
       "1.0     104\n",
       "Name: VIAGEM_INTERNACIONAL, dtype: int64"
      ]
     },
     "execution_count": 30,
     "metadata": {},
     "output_type": "execute_result"
    }
   ],
   "source": [
    "df['VIAGEM_INTERNACIONAL'].value_counts()"
   ]
  },
  {
   "cell_type": "code",
   "execution_count": 31,
   "metadata": {},
   "outputs": [
    {
     "data": {
      "text/plain": [
       "1    2198\n",
       "2     697\n",
       "9      47\n",
       "Name: AMOSTRA_RT_PCR, dtype: int64"
      ]
     },
     "execution_count": 31,
     "metadata": {},
     "output_type": "execute_result"
    }
   ],
   "source": [
    "df['AMOSTRA_RT_PCR'].value_counts()"
   ]
  },
  {
   "cell_type": "code",
   "execution_count": 32,
   "metadata": {},
   "outputs": [
    {
     "data": {
      "text/plain": [
       "ESTADOS UNIDOS                                    33\n",
       "PORTUGAL                                          10\n",
       "ITALIA                                             9\n",
       "ESPANHA                                            5\n",
       "MEXICO                                             5\n",
       "REINO UNIDO                                        5\n",
       "AFRICA DO SUL                                      3\n",
       "ARGENTINA                                          3\n",
       "ESTADOS UNIDOS, CANADA                             2\n",
       "BAHAMAS, ILHAS                                     2\n",
       "FRANCA, REINO UNIDO, PAISES BAIXOS (HOLANDA)       2\n",
       "FRANCA                                             2\n",
       "EQUADOR                                            2\n",
       "REPUBLICA DOMINICANA                               2\n",
       "ARABIA SAUDITA                                     1\n",
       "ALEMANHA                                           1\n",
       "TURQUIA                                            1\n",
       "FRANCA, PAISES BAIXOS (HOLANDA)                    1\n",
       "FRANCA, PAISES BAIXOS (HOLANDA), PORTUGAL          1\n",
       "ESPANHA, PORTUGAL                                  1\n",
       "POLONIA, REPUBLICA DA, SUICA                       1\n",
       "ITALIA, FRANCA                                     1\n",
       "ALEMANHA, AUSTRIA                                  1\n",
       "DINAMARCA                                          1\n",
       "PACIFICO,ILHAS DO (POSSESSAO DOS EUA)              1\n",
       "AUSTRALIA                                          1\n",
       "PORTUGAL, PAISES BAIXOS (HOLANDA), FRANCA          1\n",
       "ALEMANHA, REINO UNIDO, PAISES BAIXOS (HOLANDA)     1\n",
       "CANADA, ESTADOS UNIDOS                             1\n",
       "URUGUAI                                            1\n",
       "CHILE                                              1\n",
       "ALEMANHA, FRANCA, NORUEGA                          1\n",
       "FRANCA, ESPANHA                                    1\n",
       "Name: PAISES_VISITADOS, dtype: int64"
      ]
     },
     "execution_count": 32,
     "metadata": {},
     "output_type": "execute_result"
    }
   ],
   "source": [
    "df['PAISES_VISITADOS'].value_counts()"
   ]
  },
  {
   "cell_type": "code",
   "execution_count": 33,
   "metadata": {},
   "outputs": [
    {
     "data": {
      "text/plain": [
       "4.0    1195\n",
       "1.0     816\n",
       "3.0     422\n",
       "2.0       4\n",
       "Name: CLASS_FINAL, dtype: int64"
      ]
     },
     "execution_count": 33,
     "metadata": {},
     "output_type": "execute_result"
    }
   ],
   "source": [
    "df['CLASS_FINAL'].value_counts()"
   ]
  }
 ],
 "metadata": {
  "kernelspec": {
   "display_name": "Python 3",
   "language": "python",
   "name": "python3"
  },
  "language_info": {
   "codemirror_mode": {
    "name": "ipython",
    "version": 3
   },
   "file_extension": ".py",
   "mimetype": "text/x-python",
   "name": "python",
   "nbconvert_exporter": "python",
   "pygments_lexer": "ipython3",
   "version": "3.7.6"
  }
 },
 "nbformat": 4,
 "nbformat_minor": 4
}
